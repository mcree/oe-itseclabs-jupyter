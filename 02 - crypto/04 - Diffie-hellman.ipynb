{
 "cells": [
  {
   "cell_type": "markdown",
   "metadata": {},
   "source": [
    "# Diffie-hellman kulccsere / Diffie-hellman key exchange"
   ]
  },
  {
   "cell_type": "code",
   "execution_count": 4,
   "metadata": {},
   "outputs": [],
   "source": [
    "# Run this cell first\n",
    "import ipywidgets as widgets\n",
    "from ipywidgets import interact, interact_manual\n",
    "from IPython.display import HTML, display"
   ]
  },
  {
   "cell_type": "code",
   "execution_count": 42,
   "metadata": {},
   "outputs": [],
   "source": [
    "#             Apache License\n",
    "#         Version 2.0, January 2004\n",
    "#     Copyright 2015 Amirali Sanatinia\n",
    "\n",
    "\"\"\" Pure Python Diffie Hellman implementation \"\"\"\n",
    "\n",
    "import os\n",
    "import binascii\n",
    "import hashlib\n",
    "\n",
    "# RFC 3526 - More Modular Exponential (MODP) Diffie-Hellman groups for \n",
    "# Internet Key Exchange (IKE) https://tools.ietf.org/html/rfc3526 \n",
    "\n",
    "primes = {\n",
    "\n",
    "    # small prime for demonstration purposes\n",
    "    1: {\n",
    "        \"prime\": 0x2F,\n",
    "        \"generator\": 2\n",
    "    },\n",
    "    \n",
    "    # 1536-bit\n",
    "    5: { \n",
    "        \"prime\": 0xFFFFFFFFFFFFFFFFC90FDAA22168C234C4C6628B80DC1CD129024E088A67CC74020BBEA63B139B22514A08798E3404DDEF9519B3CD3A431B302B0A6DF25F14374FE1356D6D51C245E485B576625E7EC6F44C42E9A637ED6B0BFF5CB6F406B7EDEE386BFB5A899FA5AE9F24117C4B1FE649286651ECE45B3DC2007CB8A163BF0598DA48361C55D39A69163FA8FD24CF5F83655D23DCA3AD961C62F356208552BB9ED529077096966D670C354E4ABC9804F1746C08CA237327FFFFFFFFFFFFFFFF,\n",
    "        \"generator\": 2\n",
    "    },\n",
    "\n",
    "    # 2048-bit\n",
    "    14: {\n",
    "        \"prime\": 0xFFFFFFFFFFFFFFFFC90FDAA22168C234C4C6628B80DC1CD129024E088A67CC74020BBEA63B139B22514A08798E3404DDEF9519B3CD3A431B302B0A6DF25F14374FE1356D6D51C245E485B576625E7EC6F44C42E9A637ED6B0BFF5CB6F406B7EDEE386BFB5A899FA5AE9F24117C4B1FE649286651ECE45B3DC2007CB8A163BF0598DA48361C55D39A69163FA8FD24CF5F83655D23DCA3AD961C62F356208552BB9ED529077096966D670C354E4ABC9804F1746C08CA18217C32905E462E36CE3BE39E772C180E86039B2783A2EC07A28FB5C55DF06F4C52C9DE2BCBF6955817183995497CEA956AE515D2261898FA051015728E5A8AACAA68FFFFFFFFFFFFFFFF,\n",
    "        \"generator\": 2\n",
    "    },\n",
    "\n",
    "    # 3072-bit \n",
    "    15: {\n",
    "        \"prime\": 0xFFFFFFFFFFFFFFFFC90FDAA22168C234C4C6628B80DC1CD129024E088A67CC74020BBEA63B139B22514A08798E3404DDEF9519B3CD3A431B302B0A6DF25F14374FE1356D6D51C245E485B576625E7EC6F44C42E9A637ED6B0BFF5CB6F406B7EDEE386BFB5A899FA5AE9F24117C4B1FE649286651ECE45B3DC2007CB8A163BF0598DA48361C55D39A69163FA8FD24CF5F83655D23DCA3AD961C62F356208552BB9ED529077096966D670C354E4ABC9804F1746C08CA18217C32905E462E36CE3BE39E772C180E86039B2783A2EC07A28FB5C55DF06F4C52C9DE2BCBF6955817183995497CEA956AE515D2261898FA051015728E5A8AAAC42DAD33170D04507A33A85521ABDF1CBA64ECFB850458DBEF0A8AEA71575D060C7DB3970F85A6E1E4C7ABF5AE8CDB0933D71E8C94E04A25619DCEE3D2261AD2EE6BF12FFA06D98A0864D87602733EC86A64521F2B18177B200CBBE117577A615D6C770988C0BAD946E208E24FA074E5AB3143DB5BFCE0FD108E4B82D120A93AD2CAFFFFFFFFFFFFFFFF,\n",
    "        \"generator\": 2\n",
    "    },\n",
    "\n",
    "    # 4096-bit\n",
    "    16: {\n",
    "        \"prime\": 0xFFFFFFFFFFFFFFFFC90FDAA22168C234C4C6628B80DC1CD129024E088A67CC74020BBEA63B139B22514A08798E3404DDEF9519B3CD3A431B302B0A6DF25F14374FE1356D6D51C245E485B576625E7EC6F44C42E9A637ED6B0BFF5CB6F406B7EDEE386BFB5A899FA5AE9F24117C4B1FE649286651ECE45B3DC2007CB8A163BF0598DA48361C55D39A69163FA8FD24CF5F83655D23DCA3AD961C62F356208552BB9ED529077096966D670C354E4ABC9804F1746C08CA18217C32905E462E36CE3BE39E772C180E86039B2783A2EC07A28FB5C55DF06F4C52C9DE2BCBF6955817183995497CEA956AE515D2261898FA051015728E5A8AAAC42DAD33170D04507A33A85521ABDF1CBA64ECFB850458DBEF0A8AEA71575D060C7DB3970F85A6E1E4C7ABF5AE8CDB0933D71E8C94E04A25619DCEE3D2261AD2EE6BF12FFA06D98A0864D87602733EC86A64521F2B18177B200CBBE117577A615D6C770988C0BAD946E208E24FA074E5AB3143DB5BFCE0FD108E4B82D120A92108011A723C12A787E6D788719A10BDBA5B2699C327186AF4E23C1A946834B6150BDA2583E9CA2AD44CE8DBBBC2DB04DE8EF92E8EFC141FBECAA6287C59474E6BC05D99B2964FA090C3A2233BA186515BE7ED1F612970CEE2D7AFB81BDD762170481CD0069127D5B05AA993B4EA988D8FDDC186FFB7DC90A6C08F4DF435C934063199FFFFFFFFFFFFFFFF,\n",
    "        \"generator\": 2\n",
    "    },\n",
    "\n",
    "    # 6144-bit\n",
    "    17: {\n",
    "        \"prime\": 0xFFFFFFFFFFFFFFFFC90FDAA22168C234C4C6628B80DC1CD129024E088A67CC74020BBEA63B139B22514A08798E3404DDEF9519B3CD3A431B302B0A6DF25F14374FE1356D6D51C245E485B576625E7EC6F44C42E9A637ED6B0BFF5CB6F406B7EDEE386BFB5A899FA5AE9F24117C4B1FE649286651ECE45B3DC2007CB8A163BF0598DA48361C55D39A69163FA8FD24CF5F83655D23DCA3AD961C62F356208552BB9ED529077096966D670C354E4ABC9804F1746C08CA18217C32905E462E36CE3BE39E772C180E86039B2783A2EC07A28FB5C55DF06F4C52C9DE2BCBF6955817183995497CEA956AE515D2261898FA051015728E5A8AAAC42DAD33170D04507A33A85521ABDF1CBA64ECFB850458DBEF0A8AEA71575D060C7DB3970F85A6E1E4C7ABF5AE8CDB0933D71E8C94E04A25619DCEE3D2261AD2EE6BF12FFA06D98A0864D87602733EC86A64521F2B18177B200CBBE117577A615D6C770988C0BAD946E208E24FA074E5AB3143DB5BFCE0FD108E4B82D120A92108011A723C12A787E6D788719A10BDBA5B2699C327186AF4E23C1A946834B6150BDA2583E9CA2AD44CE8DBBBC2DB04DE8EF92E8EFC141FBECAA6287C59474E6BC05D99B2964FA090C3A2233BA186515BE7ED1F612970CEE2D7AFB81BDD762170481CD0069127D5B05AA993B4EA988D8FDDC186FFB7DC90A6C08F4DF435C93402849236C3FAB4D27C7026C1D4DCB2602646DEC9751E763DBA37BDF8FF9406AD9E530EE5DB382F413001AEB06A53ED9027D831179727B0865A8918DA3EDBEBCF9B14ED44CE6CBACED4BB1BDB7F1447E6CC254B332051512BD7AF426FB8F401378CD2BF5983CA01C64B92ECF032EA15D1721D03F482D7CE6E74FEF6D55E702F46980C82B5A84031900B1C9E59E7C97FBEC7E8F323A97A7E36CC88BE0F1D45B7FF585AC54BD407B22B4154AACC8F6D7EBF48E1D814CC5ED20F8037E0A79715EEF29BE32806A1D58BB7C5DA76F550AA3D8A1FBFF0EB19CCB1A313D55CDA56C9EC2EF29632387FE8D76E3C0468043E8F663F4860EE12BF2D5B0B7474D6E694F91E6DCC4024FFFFFFFFFFFFFFFF,\n",
    "        \"generator\": 2\n",
    "    }\n",
    "}\n",
    "\n",
    "\n",
    "class DiffieHellman:\n",
    "    \"\"\" Class to represent the Diffie-Hellman key exchange protocol \"\"\"\n",
    "    # Current minimum recommendation is 2048 bit.\n",
    "    def __init__(self, group=1):\n",
    "        if group in primes:\n",
    "            self.p = primes[group][\"prime\"]\n",
    "            self.g = primes[group][\"generator\"]\n",
    "        else:\n",
    "            raise Exception(\"Group not supported\")\n",
    "\n",
    "        self.__a = int(binascii.hexlify(os.urandom(32)), base=16)\n",
    "\n",
    "    def get_private_key(self):\n",
    "        \"\"\" Return the private key (a) \"\"\"\n",
    "        return self.__a\n",
    "\n",
    "    def gen_public_key(self):\n",
    "        \"\"\" Return A, A = g ^ a mod p \"\"\"\n",
    "        # calculate G^a mod p\n",
    "        return pow(self.g, self.__a, self.p)\n",
    "\n",
    "    def check_other_public_key(self, other_contribution):\n",
    "        # check if the other public key is valid based on NIST SP800-56\n",
    "        # 2 <= g^b <= p-2 and Lagrange for safe primes (g^bq)=1, q=(p-1)/2\n",
    "\n",
    "        if 2 <= other_contribution and other_contribution <= self.p - 2:\n",
    "            if pow(other_contribution, (self.p - 1) // 2, self.p) == 1:\n",
    "                return True\n",
    "        return False\n",
    "\n",
    "    def gen_shared_key(self, other_contribution):\n",
    "        \"\"\" Return g ^ ab mod p \"\"\"\n",
    "        # calculate the shared key G^ab mod p\n",
    "        if self.check_other_public_key(other_contribution):\n",
    "            self.shared_key = pow(other_contribution, self.__a, self.p)\n",
    "            return self.shared_key\n",
    "            #return hashlib.sha256(str(self.shared_key).encode()).hexdigest()\n",
    "        else:\n",
    "            raise Exception(\"Bad public key from other party\")"
   ]
  },
  {
   "cell_type": "code",
   "execution_count": 41,
   "metadata": {},
   "outputs": [
    {
     "data": {
      "application/vnd.jupyter.widget-view+json": {
       "model_id": "9b5140074f6d44ac9e3266026ecb0464",
       "version_major": 2,
       "version_minor": 0
      },
      "text/plain": [
       "interactive(children=(Dropdown(description='group', options=(1, 5, 14, 15, 16, 17), value=1), Button(descripti…"
      ]
     },
     "metadata": {},
     "output_type": "display_data"
    }
   ],
   "source": [
    "# használat / usage\n",
    "@interact_manual(group=[1,5,14,15,16,17])\n",
    "def DH_demo(group):\n",
    "    # d1 és d2 a kulccsere két résztvevője / d1 and d2 are participating in key exchange\n",
    "    d1 = DiffieHellman(group)\n",
    "    d2 = DiffieHellman(group)\n",
    "    # nyilvános kulcsok létrehozása / generation of public keys\n",
    "    d1_pubkey = d1.gen_public_key()\n",
    "    d2_pubkey = d2.gen_public_key()\n",
    "    # ...\n",
    "    # ennél a pontnál történik meg a nyilvános kulcsok cseréje a nem megbízható csatornán /\n",
    "    # at this point, public keys are exchanged over an insecure connection\n",
    "    # ...\n",
    "    # titkos kulcs kiszámítása mindkét oldalon / calculate secret shared key on both sides\n",
    "    d1_sharedkey = d1.gen_shared_key(d2_pubkey)\n",
    "    d2_sharedkey = d2.gen_shared_key(d1_pubkey)\n",
    "    # titkos kulcs egyezőség ellenőrzése / verify that secret match\n",
    "    assert d1_sharedkey == d2_sharedkey\n",
    "    return (d1_pubkey, d2_pubkey, d1_sharedkey)"
   ]
  }
 ],
 "metadata": {
  "kernelspec": {
   "display_name": "Python 3",
   "language": "python",
   "name": "python3"
  },
  "language_info": {
   "codemirror_mode": {
    "name": "ipython",
    "version": 3
   },
   "file_extension": ".py",
   "mimetype": "text/x-python",
   "name": "python",
   "nbconvert_exporter": "python",
   "pygments_lexer": "ipython3",
   "version": "3.6.9"
  }
 },
 "nbformat": 4,
 "nbformat_minor": 4
}
