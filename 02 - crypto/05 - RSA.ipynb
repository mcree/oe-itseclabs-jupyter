{
 "cells": [
  {
   "cell_type": "markdown",
   "metadata": {},
   "source": [
    "# Nyílt kulcsú titkosítás (RSA) / public key cryptography (RSA)"
   ]
  },
  {
   "cell_type": "code",
   "execution_count": null,
   "metadata": {},
   "outputs": [],
   "source": [
    "\"\"\"\n",
    "This program implements the RSA algorithm for cryptography.\n",
    "It randomly selects two prime numbers and uses them to produce \n",
    "the public and private keys. Using the keys, it can \n",
    "either encrypt or decrypt messages.\n",
    "\n",
    "Based on:\n",
    "    https://github.com/jchen2186/rsa-implementation/blob/master/rsa.py\n",
    "    https://stackoverflow.com/questions/567222/simple-prime-generator-in-python\n",
    "\"\"\"\n",
    "import ipywidgets as widgets\n",
    "from ipywidgets import interact, interact_manual\n",
    "import random, binascii, textwrap"
   ]
  },
  {
   "cell_type": "code",
   "execution_count": null,
   "metadata": {},
   "outputs": [],
   "source": [
    "@interact(a=(1,1000), b=(1,1000))\n",
    "def gcd(a, b):\n",
    "    \"\"\"\n",
    "    Performs the Euclidean algorithm and returns the greatest common divisor of a and b\n",
    "    \"\"\"\n",
    "    if (b == 0):\n",
    "        return a\n",
    "    else:\n",
    "        return gcd(b, a % b)"
   ]
  },
  {
   "cell_type": "code",
   "execution_count": null,
   "metadata": {},
   "outputs": [],
   "source": [
    "@interact(a=(1,1000), b=(1,1000))\n",
    "def xgcd(a, b):\n",
    "    \"\"\"\n",
    "    Performs the extended Euclidean algorithm\n",
    "    Returns the gcd, coefficient of a, and coefficient of b\n",
    "    \"\"\"\n",
    "    x, old_x = 0, 1\n",
    "    y, old_y = 1, 0\n",
    "\n",
    "    while (b != 0):\n",
    "        quotient = a // b\n",
    "        a, b = b, a - quotient * b\n",
    "        old_x, x = x, old_x - quotient * x\n",
    "        old_y, y = y, old_y - quotient * y\n",
    "\n",
    "    return a, old_x, old_y"
   ]
  },
  {
   "cell_type": "code",
   "execution_count": null,
   "metadata": {},
   "outputs": [],
   "source": [
    "@interact_manual(totient=(1000,10000,1000))\n",
    "def chooseE(totient):\n",
    "    \"\"\"\n",
    "    Chooses a random number, 1 < e < totient, and checks whether or not it is \n",
    "    coprime with the totient, that is, gcd(e, totient) = 1\n",
    "    \"\"\"\n",
    "    while (True):\n",
    "        e = random.randrange(2, totient)\n",
    "\n",
    "        if (gcd(e, totient) == 1):\n",
    "            return e"
   ]
  },
  {
   "cell_type": "code",
   "execution_count": null,
   "metadata": {},
   "outputs": [],
   "source": [
    "@interact_manual(num=(1,10000))\n",
    "def is_prime(num):\n",
    "    \"\"\"\n",
    "    Returns True if the number is prime else False.\n",
    "    \"\"\"\n",
    "    if num == 0 or num == 1:\n",
    "        return False\n",
    "    for x in range(2, num):\n",
    "        if num % x == 0:\n",
    "            return False\n",
    "    else:\n",
    "        return True"
   ]
  },
  {
   "cell_type": "code",
   "execution_count": null,
   "metadata": {},
   "outputs": [],
   "source": [
    "@interact_manual(min=1000, max=10000)\n",
    "def choosePrime(min, max):\n",
    "    \"\"\"\n",
    "    Chooses a random number, min < p < max, and checks whether or not it is prime\n",
    "    \"\"\"\n",
    "    while (True):\n",
    "        p = random.randrange(min, max)\n",
    "\n",
    "        if is_prime(p):\n",
    "            return p"
   ]
  },
  {
   "cell_type": "code",
   "execution_count": null,
   "metadata": {},
   "outputs": [],
   "source": [
    "@interact_manual(magnitude=(1,7))\n",
    "def chooseKeys(magnitude = 5):\n",
    "    \"\"\"\n",
    "    Selects two random prime numbers. Using the prime numbers, \n",
    "    it also computes the public and private keys.\n",
    "    magnitude selects order of magnitude for the primes\n",
    "    \"\"\"\n",
    "\n",
    "    # store our prime numbers in these variables\n",
    "    prime1 = choosePrime(pow(10,magnitude), pow(10,magnitude+1))\n",
    "    prime2 = choosePrime(pow(10,magnitude), pow(10,magnitude+1))\n",
    "\n",
    "    # compute n, totient, e\n",
    "    n = prime1 * prime2\n",
    "    totient = (prime1 - 1) * (prime2 - 1)\n",
    "    e = chooseE(totient)\n",
    "\n",
    "    # compute d, 1 < d < totient such that ed = 1 (mod totient)\n",
    "    # e and d are inverses (mod totient)\n",
    "    gcd, x, y = xgcd(e, totient)\n",
    "\n",
    "    # make sure d is positive\n",
    "    if (x < 0):\n",
    "        d = x + totient\n",
    "    else:\n",
    "        d = x\n",
    "\n",
    "    return ([n, e], [n, d])\n"
   ]
  },
  {
   "cell_type": "code",
   "execution_count": null,
   "metadata": {},
   "outputs": [],
   "source": [
    "(public, private) = chooseKeys(7)\n",
    "display(public, private)"
   ]
  },
  {
   "cell_type": "code",
   "execution_count": null,
   "metadata": {},
   "outputs": [],
   "source": [
    "@interact(text=\"plaintext\", block_size=(1,10))\n",
    "def text_to_numbers(text, block_size=2):\n",
    "    \"\"\"\n",
    "    Helper function that splits up text into block_size chunks\n",
    "    then converts those to integer values.\n",
    "    Returns a string of integers\n",
    "    \"\"\"\n",
    "    res = []\n",
    "    for t in textwrap.wrap(text, block_size):\n",
    "        res.append(str(int(binascii.hexlify(t.encode()), 16)))\n",
    "    return ','.join(res)"
   ]
  },
  {
   "cell_type": "code",
   "execution_count": null,
   "metadata": {},
   "outputs": [],
   "source": [
    "@interact(numbers=text_to_numbers(\"plaintext\",2))\n",
    "def numbers_to_text(numbers):\n",
    "    \"\"\"\n",
    "    Helper function to invert effect of text_to_numbers()\n",
    "    \"\"\"\n",
    "    res = \"\"\n",
    "    for n in numbers.split(','):\n",
    "        res += binascii.unhexlify(hex(int(n))[2:]).decode()\n",
    "    return res"
   ]
  },
  {
   "cell_type": "code",
   "execution_count": null,
   "metadata": {},
   "outputs": [],
   "source": [
    "@interact_manual(message=\"plaintext\", key={'public': public, 'private': private}, block_size=(1,6))\n",
    "def encrypt(message, key, block_size = 2):\n",
    "    \"\"\"\n",
    "    Encrypts a message (string) by raising each characterblock's value to the \n",
    "    power of e and taking the modulus of n. Returns a string of numbers.\n",
    "    block_size refers to how many characters make up one group of numbers in \n",
    "    each index of encrypted_blocks.\n",
    "    \"\"\"\n",
    "\n",
    "    n = key[0]\n",
    "    e = key[1]\n",
    "    \n",
    "    blocks = text_to_numbers(message, block_size).split(\",\")\n",
    "    encrypted_blocks = []\n",
    "\n",
    "    # encrypt all of the numbers by taking them to the power of e\n",
    "    # and modding them by n\n",
    "    for i in range(len(blocks)):\n",
    "        num = int(blocks[i])\n",
    "        if num > n:\n",
    "            raise Exception('block size too large for key')\n",
    "        encrypted_blocks.append(str(pow(num,e,n)))\n",
    "\n",
    "    # create a string from the numbers\n",
    "    encrypted_message = \",\".join(encrypted_blocks)\n",
    "\n",
    "    return encrypted_message\n"
   ]
  },
  {
   "cell_type": "code",
   "execution_count": null,
   "metadata": {},
   "outputs": [],
   "source": [
    "@interact_manual(blocks=encrypt(\"plaintext\", public, 2), key={'private': private, 'public': public})\n",
    "def decrypt(blocks, key):\n",
    "    \"\"\"\n",
    "    Decrypts a string of numbers by raising each number to the power of d and \n",
    "    taking the modulus of n. Returns the message as a string.\n",
    "    \"\"\"\n",
    "    n = key[0]\n",
    "    d = key[1]\n",
    "\n",
    "    # turns the string into a list of ints\n",
    "    list_blocks = blocks.split(',')\n",
    "    int_blocks = []\n",
    "\n",
    "    for s in list_blocks:\n",
    "        int_blocks.append(int(s))\n",
    "\n",
    "    decrypted_blocks = []\n",
    "            \n",
    "    # converts each int in the list of characters\n",
    "    for i in range(len(int_blocks)):\n",
    "        # decrypt all of the numbers by taking them to the power of d\n",
    "        # and modding them by n\n",
    "        decrypted_blocks.append(str(pow(int_blocks[i],d,n)))       \n",
    "\n",
    "    return numbers_to_text(\",\".join(decrypted_blocks))"
   ]
  }
 ],
 "metadata": {
  "kernelspec": {
   "display_name": "Python 3",
   "language": "python",
   "name": "python3"
  },
  "language_info": {
   "codemirror_mode": {
    "name": "ipython",
    "version": 3
   },
   "file_extension": ".py",
   "mimetype": "text/x-python",
   "name": "python",
   "nbconvert_exporter": "python",
   "pygments_lexer": "ipython3",
   "version": "3.6.9"
  }
 },
 "nbformat": 4,
 "nbformat_minor": 4
}
