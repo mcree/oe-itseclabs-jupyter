{
 "cells": [
  {
   "cell_type": "markdown",
   "metadata": {},
   "source": [
    "# Hash függvények / hash functions"
   ]
  },
  {
   "cell_type": "code",
   "execution_count": null,
   "metadata": {},
   "outputs": [],
   "source": [
    "# Run this cell first\n",
    "import ipywidgets as widgets\n",
    "from ipywidgets import interact, interact_manual\n",
    "from IPython.display import HTML, display"
   ]
  },
  {
   "cell_type": "markdown",
   "metadata": {},
   "source": [
    "## MD5\n",
    "Ez az algoritmus nem tekinthető biztonságosnak. Ne használjuk új tervezésnél.\n",
    "\n",
    "This algorithm is not considered secure. Do not use it for new designs."
   ]
  },
  {
   "cell_type": "code",
   "execution_count": null,
   "metadata": {},
   "outputs": [],
   "source": [
    "from Crypto.Hash import MD5\n",
    "\n",
    "@interact\n",
    "def md5(data = \"hello\"):\n",
    "    \"\"\"This method demostrates usage of historic hash algorithm MD5\"\"\"\n",
    "    h = MD5.new()\n",
    "    h.update(bytes(data,'utf-8'))\n",
    "    return h.hexdigest()"
   ]
  },
  {
   "cell_type": "markdown",
   "metadata": {},
   "source": [
    "## SHA256"
   ]
  },
  {
   "cell_type": "code",
   "execution_count": null,
   "metadata": {},
   "outputs": [],
   "source": [
    "from Crypto.Hash import SHA256\n",
    "\n",
    "@interact\n",
    "def sha256(data = \"hello\"):\n",
    "    \"\"\"This method demostrates usage hash algorithms SHA256\"\"\"\n",
    "    h = SHA256.new()\n",
    "    h.update(bytes(data,'utf-8'))\n",
    "    return h.hexdigest()"
   ]
  },
  {
   "cell_type": "markdown",
   "metadata": {},
   "source": [
    "## Üzenetek hitelesítése hash segítségével (HMAC) / hash based message authentication (HMAC)"
   ]
  },
  {
   "cell_type": "code",
   "execution_count": null,
   "metadata": {},
   "outputs": [],
   "source": [
    "from Crypto.Hash import HMAC, SHA256\n",
    "\n",
    "@interact\n",
    "def hmac_generate(message = \"hello\", secret = \"secret\"):\n",
    "    \"\"\"This method demonstrates hash based message authentication - sender side\"\"\"\n",
    "    h = HMAC.new(bytes(secret,'utf-8'), digestmod=SHA256)\n",
    "    h.update(bytes(message,'utf-8'))\n",
    "    return h.hexdigest()"
   ]
  },
  {
   "cell_type": "code",
   "execution_count": null,
   "metadata": {},
   "outputs": [],
   "source": [
    "from Crypto.Hash import HMAC, SHA256\n",
    "\n",
    "@interact()\n",
    "def hmac_verify(message = \"hello\", mac=\"88aab3ede8d3adf94d26ab90d3bafd4a2083070c3bcce9c014ee04a443847c0b\", secret = \"secret\"):\n",
    "    \"\"\"This method demonstrates hash based message authentication - receiver side\"\"\"\n",
    "    h = HMAC.new(bytes(secret,'utf-8'), digestmod=SHA256)\n",
    "    h.update(bytes(message,'utf-8'))\n",
    "    if h.hexdigest() == mac:\n",
    "        return \"The message '%s' is authentic\" % message\n",
    "    else:\n",
    "        return \"The message or the key is wrong\""
   ]
  },
  {
   "cell_type": "markdown",
   "metadata": {},
   "source": [
    "## Gyakorló feladat / practice task\n",
    "\n",
    "Próbáljon ki egyéb hash függvényeket / try different hash functions\n",
    "\n",
    "See: https://pycryptodome.readthedocs.io/en/latest/src/hash/hash.html"
   ]
  }
 ],
 "metadata": {
  "kernelspec": {
   "display_name": "Python 3",
   "language": "python",
   "name": "python3"
  },
  "language_info": {
   "codemirror_mode": {
    "name": "ipython",
    "version": 3
   },
   "file_extension": ".py",
   "mimetype": "text/x-python",
   "name": "python",
   "nbconvert_exporter": "python",
   "pygments_lexer": "ipython3",
   "version": "3.6.9"
  }
 },
 "nbformat": 4,
 "nbformat_minor": 4
}
