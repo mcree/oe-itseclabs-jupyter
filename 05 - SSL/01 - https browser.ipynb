{
 "cells": [
  {
   "cell_type": "markdown",
   "metadata": {},
   "source": [
    "<div class=\"alert alert-warning\">\n",
    "<p><img src='../images/hu.png'> A feladathoz az előkészített <a href=\"https://github.com/mcree/oe-itseclabs\">itseclabs</a> Linux virtuális környezetre van szükség!</p>\n",
    "<p><img src='../images/en.png'> For this task you'll need the prepared <a href=\"https://github.com/mcree/oe-itseclabs\">itseclabs</a> Linux virtual environment.</p>\n",
    "</div>"
   ]
  },
  {
   "cell_type": "markdown",
   "metadata": {},
   "source": [
    "# <img src='../images/en.png'> Inpection of HTTPS certificates in a web browser\n",
    "\n",
    "1. launch Wordpress server stack from the desktop\n",
    "1. Wait for console messages from the server called wordpress_1 to appear\n",
    "1. Open up a browser to https://www.itseclabs.local (might need to reload a few times for a Wordpress Installation page to appear)\n",
    "1. <a href='images/01_padlock.png'>Click on the padlock icon in Mozilla Firefox, then click on the \">\" section of the popup window to show connection details</a>\n",
    "1. <a href='images/02_padlock_more.png'>Click on \"More information\"</a>\n",
    "1. <a href='images/03_view_certificate.png'>Click on \"View certificate\"</a>\n",
    "1. Now you can examine certificate details and get information on the issuer\n",
    "\n",
    "Also:\n",
    "\n",
    "* Check SSL capabilities of your browser: https://clienttest.ssllabs.com:8443/ssltest/viewMyClient.html\n",
    "* Check SSL capabilities of a web server: https://www.ssllabs.com/ssltest/analyze.html?d=www.uni%2dobuda.hu&latest"
   ]
  }
 ],
 "metadata": {
  "kernelspec": {
   "display_name": "Python 3",
   "language": "python",
   "name": "python3"
  },
  "language_info": {
   "codemirror_mode": {
    "name": "ipython",
    "version": 3
   },
   "file_extension": ".py",
   "mimetype": "text/x-python",
   "name": "python",
   "nbconvert_exporter": "python",
   "pygments_lexer": "ipython3",
   "version": "3.6.9"
  }
 },
 "nbformat": 4,
 "nbformat_minor": 4
}
