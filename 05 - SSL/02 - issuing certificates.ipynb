{
 "cells": [
  {
   "cell_type": "markdown",
   "metadata": {},
   "source": [
    "<div class=\"alert alert-warning\">\n",
    "<p><img src='../images/hu.png'> A feladathoz az előkészített <a href=\"https://github.com/mcree/oe-itseclabs\">itseclabs</a> Linux virtuális környezetre van szükség!</p>\n",
    "<p><img src='../images/en.png'> For this task you'll need the prepared <a href=\"https://github.com/mcree/oe-itseclabs\">itseclabs</a> Linux virtual environment.</p>\n",
    "</div>"
   ]
  },
  {
   "cell_type": "markdown",
   "metadata": {},
   "source": [
    "# <img src='../images/en.png'> Requesting and issuing SSL certificates\n",
    "\n",
    "- Launch X Certificate Authority (XCA) icon from the desktop and use the password \"hallgato\" to open the database\n",
    "- Examine private keys and certificates issued by the CA (including the self signed CA certificate)"
   ]
  },
  {
   "cell_type": "code",
   "execution_count": null,
   "metadata": {},
   "outputs": [],
   "source": [
    "%%bash\n",
    "# generate a new RSA private key\n",
    "openssl genrsa -out mykey.pem 2048"
   ]
  },
  {
   "cell_type": "markdown",
   "metadata": {},
   "source": [
    "- Examine <a href=mykey.pem>mykey.pem</a>\n",
    "- Also examine <a href=openssl.cnf>openssl.cnf</a> that contains certificate request user parameters"
   ]
  },
  {
   "cell_type": "code",
   "execution_count": null,
   "metadata": {},
   "outputs": [],
   "source": [
    "%%bash\n",
    "# create new certificate request\n",
    "openssl req -new -config openssl.cnf -key mykey.pem -out myreq.csr"
   ]
  },
  {
   "cell_type": "markdown",
   "metadata": {},
   "source": [
    "- Examine <a href=myreq.csr>myreq.csr</a>\n",
    "- Import myreq.csr into XCA on the \"Certificate singing requests\" tab\n",
    "- Right click on the imported reuqest then select \"sign\" from the context dialog\n",
    "- <a href=\"images/04_xca_issue_cert.png\">Issue the new certificate using \"ca\" as the signer and \"HTTPS_server\" as the template</a>\n",
    "- From the \"Certificates\" tab, export the new certificate that is issued, save the file as /home/hallgato/oe-itseclabs/mycert.crt\n",
    "\n",
    "<div class=\"alert alert-warning\">\n",
    "NOTE: it is important to export the file into the *oe-itseclabs* subdirectory for the next command to work correctly!\n",
    "</div>"
   ]
  },
  {
   "cell_type": "code",
   "execution_count": null,
   "metadata": {},
   "outputs": [],
   "source": [
    "%%bash\n",
    "# examine the issued certificate\n",
    "openssl x509 -in /home/hallgato/oe-itseclabs/mycert.crt -text"
   ]
  },
  {
   "cell_type": "markdown",
   "metadata": {},
   "source": [
    "<div class=\"alert alert-info\">\n",
    "Note that the private key is not exposed to the CA during the process.\n",
    "</div>"
   ]
  }
 ],
 "metadata": {
  "kernelspec": {
   "display_name": "Python 3",
   "language": "python",
   "name": "python3"
  },
  "language_info": {
   "codemirror_mode": {
    "name": "ipython",
    "version": 3
   },
   "file_extension": ".py",
   "mimetype": "text/x-python",
   "name": "python",
   "nbconvert_exporter": "python",
   "pygments_lexer": "ipython3",
   "version": "3.6.9"
  }
 },
 "nbformat": 4,
 "nbformat_minor": 4
}
