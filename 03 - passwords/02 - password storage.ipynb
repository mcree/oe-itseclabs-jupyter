{
 "cells": [
  {
   "cell_type": "markdown",
   "metadata": {},
   "source": [
    "# Jelszavak tárolása / storing passwords"
   ]
  },
  {
   "cell_type": "code",
   "execution_count": null,
   "metadata": {},
   "outputs": [],
   "source": [
    "# Run this cell first\n",
    "import ipywidgets as widgets\n",
    "from ipywidgets import interact, interact_manual\n",
    "from Crypto.Hash import SHA256\n",
    "import pandas as pd\n",
    "import random, codecs"
   ]
  },
  {
   "cell_type": "markdown",
   "metadata": {},
   "source": [
    "## Egyszerű hash tárolás / simple hash storage"
   ]
  },
  {
   "cell_type": "code",
   "execution_count": null,
   "metadata": {},
   "outputs": [],
   "source": [
    "@interact\n",
    "def gen_simple(password = \"secret\"):\n",
    "    \"\"\"This method demostrates simple password generation using SHA256\"\"\"\n",
    "    \n",
    "    h = SHA256.new()\n",
    "    h.update(bytes(password,'utf-8'))\n",
    "    return h.hexdigest()"
   ]
  },
  {
   "cell_type": "code",
   "execution_count": null,
   "metadata": {},
   "outputs": [],
   "source": [
    "@interact\n",
    "def verify_simple(user = 'simple', password = \"secret\"):\n",
    "    \"\"\"This method demostrates simple password verification using SHA256\"\"\"\n",
    "    \n",
    "    # challenge számítása / calculate challenge\n",
    "    h = SHA256.new()\n",
    "    h.update(bytes(password,'utf-8'))\n",
    "    challenge = h.hexdigest()\n",
    "    \n",
    "    # adatbázis lekérdezés / database query\n",
    "    db = pd.read_csv('userdb.csv')\n",
    "    res = db[(db[\"user\"] == user) & (db[\"password\"] == challenge)]\n",
    "  \n",
    "    # végeredmény számítása / calculate final result\n",
    "    if len(res) > 0: # van találat / we have a match\n",
    "        return \"authentication success - user and password match\"\n",
    "    else: # nincs találat / we do not have a match\n",
    "        return \"authentication failed - user or password mismatch\""
   ]
  },
  {
   "cell_type": "markdown",
   "metadata": {},
   "source": [
    "## Sózott hash tárolás / salted hash storage"
   ]
  },
  {
   "cell_type": "code",
   "execution_count": null,
   "metadata": {},
   "outputs": [],
   "source": [
    "@interact_manual\n",
    "def gen_salted(password = \"secret\"):\n",
    "    \"\"\"This method demostrates salted password generation using SHA256\"\"\"\n",
    "    \n",
    "    salt = random.randrange(10000, 99999)\n",
    "    \n",
    "    h = SHA256.new()\n",
    "    h.update(bytes(str(salt) + password,'utf-8'))\n",
    "    return {\"salt\": str(salt), \"hash\": h.hexdigest()}"
   ]
  },
  {
   "cell_type": "code",
   "execution_count": null,
   "metadata": {},
   "outputs": [],
   "source": [
    "@interact\n",
    "def verify_salted(user = 'salted', password = \"secret\"):\n",
    "    \"\"\"This method demostrates salted password verification using SHA256\"\"\"\n",
    "        \n",
    "    # adatbázis lekérdezés / database query \n",
    "    db = pd.read_csv('userdb.csv')\n",
    "    record = db[(db[\"user\"] == user)]\n",
    "    if len(record) < 1:\n",
    "        return \"authentication failed - no such user\"\n",
    "    stored = record[\"password\"][1]\n",
    "    salt = int(record[\"salt\"][1])\n",
    "\n",
    "    # challenge számítása / calculate challenge\n",
    "    h = SHA256.new()\n",
    "    h.update(bytes(str(salt) + password,'utf-8'))\n",
    "    challenge = h.hexdigest()\n",
    "    \n",
    "    # végeredmény számítása / calculate final result\n",
    "    if challenge == stored: # hash érték egyezik / hash value match\n",
    "        return \"authentication success - password match\"\n",
    "    else:\n",
    "        return \"authentication failed - password mismatch\""
   ]
  },
  {
   "cell_type": "markdown",
   "metadata": {},
   "source": [
    "## Proof of work jelszótárolás (és borsozás) / proof of work storage (and peppering)"
   ]
  },
  {
   "cell_type": "code",
   "execution_count": null,
   "metadata": {},
   "outputs": [],
   "source": [
    "@interact_manual\n",
    "def gen_pow(password = \"secret\"):\n",
    "    \"\"\"This method demostrates proof of work password generation using SHA256\"\"\"\n",
    "    \n",
    "    salt = random.randrange(10000, 99999) # a só értékét tároljuk / salt is stored\n",
    "    pepper = random.randrange(1, 9) # a bors értékét NEM tároljuk / pepper is NOT stored\n",
    "    work_factor = 100000 # hash ismétlések száma, előre definiált / number of hash iterations, predefined\n",
    "    \n",
    "    h = SHA256.new()\n",
    "    h.update(bytes(str(salt) + str(pepper) + password,'utf-8'))\n",
    "    res = h.digest()\n",
    "    \n",
    "    for i in range(1, work_factor):\n",
    "        h = SHA256.new()\n",
    "        h.update(res)\n",
    "        res = h.digest()        \n",
    "    \n",
    "    return {\"salt\": str(salt), \"hash\": bytes.decode(codecs.encode(res,'hex'))}"
   ]
  },
  {
   "cell_type": "code",
   "execution_count": null,
   "metadata": {},
   "outputs": [],
   "source": [
    "%%timeit\n",
    "x = gen_salted()"
   ]
  },
  {
   "cell_type": "code",
   "execution_count": null,
   "metadata": {},
   "outputs": [],
   "source": [
    "%%timeit\n",
    "x = gen_pow()"
   ]
  },
  {
   "cell_type": "markdown",
   "metadata": {},
   "source": [
    "## SOHA nem gyártunk saját kirptográfiát! / NEVER roll your own crypto!\n",
    "\n",
    "Az előző példák csupán az elvek bemutatását szolgálják. /\n",
    "Previous examples are here only to show the principles."
   ]
  },
  {
   "cell_type": "code",
   "execution_count": null,
   "metadata": {},
   "outputs": [],
   "source": [
    "import bcrypt\n",
    "\n",
    "@interact_manual\n",
    "def gen_bcrypt(password = \"secret\"):\n",
    "    \"\"\"This method correct password generation using PBKDF2 and secure random hash\"\"\"\n",
    "\n",
    "    salt = bcrypt.gensalt()\n",
    "    hash = bcrypt.hashpw(password.encode('UTF-8'), salt)\n",
    "    \n",
    "    return {\"salt\": bytes.decode(salt), \"hash\": bytes.decode(hash)} "
   ]
  },
  {
   "cell_type": "code",
   "execution_count": null,
   "metadata": {},
   "outputs": [],
   "source": [
    "%%timeit\n",
    "x = gen_bcrypt()"
   ]
  },
  {
   "cell_type": "markdown",
   "metadata": {},
   "source": [
    "## Gyakorló feladat / practice task\n",
    "\n",
    "Készítse el a bcrypt és a \"proof of work\" jelszó ellenőrző függvényt! /\n",
    "Implement the bcrypt and the \"proof of work\" password verification method!"
   ]
  }
 ],
 "metadata": {
  "kernelspec": {
   "display_name": "Python 3",
   "language": "python",
   "name": "python3"
  },
  "language_info": {
   "codemirror_mode": {
    "name": "ipython",
    "version": 3
   },
   "file_extension": ".py",
   "mimetype": "text/x-python",
   "name": "python",
   "nbconvert_exporter": "python",
   "pygments_lexer": "ipython3",
   "version": "3.6.9"
  }
 },
 "nbformat": 4,
 "nbformat_minor": 4
}
