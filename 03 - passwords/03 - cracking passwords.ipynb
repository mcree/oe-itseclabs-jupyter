{
 "cells": [
  {
   "cell_type": "markdown",
   "metadata": {},
   "source": [
    "# Jelszótörés / cracking passwords\n",
    "\n",
    "* Szólisták / wordlists: \n",
    "    * https://weakpass.com/\n",
    "    * https://github.com/danielmiessler/SecLists\n",
    "* Hash lookup service: https://crackstation.net/"
   ]
  },
  {
   "cell_type": "markdown",
   "metadata": {},
   "source": [
    "## Hash cracking"
   ]
  },
  {
   "cell_type": "code",
   "execution_count": null,
   "metadata": {},
   "outputs": [],
   "source": [
    "%%bash\n",
    "hashcat --help"
   ]
  },
  {
   "cell_type": "code",
   "execution_count": null,
   "metadata": {},
   "outputs": [],
   "source": [
    "%%bash\n",
    "hashcat \\\n",
    "    --attack-mode 0 \\\n",
    "    --hash-type 1400 \\\n",
    "    --optimized-kernel-enable \\\n",
    "    --force \\\n",
    "    --restore-disable \\\n",
    "    --potfile-disable \\\n",
    "    --outfile hashfound.txt \\\n",
    "    hashlist.txt \\\n",
    "    wordlist.txt \\\n",
    "    || true"
   ]
  },
  {
   "cell_type": "code",
   "execution_count": null,
   "metadata": {},
   "outputs": [],
   "source": [
    "%%bash\n",
    "hashcat \\\n",
    "    --attack-mode 0 \\\n",
    "    --hash-type 1400 \\\n",
    "    --optimized-kernel-enable \\\n",
    "    --force \\\n",
    "    --restore-disable \\\n",
    "    --potfile-disable \\\n",
    "    --outfile hashfound.txt \\\n",
    "    hashlist.txt \\\n",
    "    wordlist.txt \\\n",
    "    --rules-file hashcat.rules \\\n",
    "    || true"
   ]
  },
  {
   "cell_type": "markdown",
   "metadata": {},
   "source": [
    "## PDF cracking"
   ]
  },
  {
   "cell_type": "code",
   "execution_count": null,
   "metadata": {},
   "outputs": [],
   "source": [
    "%%bash\n",
    "pdfcrack --help"
   ]
  },
  {
   "cell_type": "code",
   "execution_count": null,
   "metadata": {},
   "outputs": [],
   "source": [
    "%%bash\n",
    "pdfcrack -f pdfcrack-pass.pdf -w wordlist.txt"
   ]
  },
  {
   "cell_type": "markdown",
   "metadata": {},
   "source": [
    "## ZIP cracking"
   ]
  },
  {
   "cell_type": "code",
   "execution_count": null,
   "metadata": {},
   "outputs": [],
   "source": [
    "%%bash\n",
    "fcrackzip --help"
   ]
  },
  {
   "cell_type": "code",
   "execution_count": null,
   "metadata": {},
   "outputs": [],
   "source": [
    "%%bash\n",
    "fcrackzip -u -D -p wordlist.txt encrypted.zip"
   ]
  }
 ],
 "metadata": {
  "kernelspec": {
   "display_name": "Python 3",
   "language": "python",
   "name": "python3"
  },
  "language_info": {
   "codemirror_mode": {
    "name": "ipython",
    "version": 3
   },
   "file_extension": ".py",
   "mimetype": "text/x-python",
   "name": "python",
   "nbconvert_exporter": "python",
   "pygments_lexer": "ipython3",
   "version": "3.6.9"
  }
 },
 "nbformat": 4,
 "nbformat_minor": 4
}
