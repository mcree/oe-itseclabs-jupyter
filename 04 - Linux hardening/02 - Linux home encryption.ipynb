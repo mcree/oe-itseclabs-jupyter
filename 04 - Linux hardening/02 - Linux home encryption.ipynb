{
 "cells": [
  {
   "cell_type": "markdown",
   "metadata": {},
   "source": [
    "<div class=\"alert alert-warning\">\n",
    "<p><img src='../images/hu.png'> A feladathoz az előkészített <a href=\"https://github.com/mcree/oe-itseclabs\">itseclabs</a> Linux virtuális környezetre van szükség!</p>\n",
    "<p><img src='../images/en.png'> For this task you'll need the prepared <a href=\"https://github.com/mcree/oe-itseclabs\">itseclabs</a> Linux virtual environment.</p>\n",
    "</div>"
   ]
  },
  {
   "cell_type": "markdown",
   "metadata": {},
   "source": [
    "# <img src='../images/hu.png'> Felhasználói könyvtár titkosítása\n",
    "\n",
    "A titkosítás célja a felhasználói adatok védelme az eszköz elvesztése / lopás esetén. További javasolt lehetőség a teljes merevlemez titkosítása az operációs rendszer telepítése során.\n",
    "\n",
    "<div class=\"alert alert-info\">\n",
    "A szakaszban használt utasítások <a href=https://ubuntu.com/>Ubuntu Linux</a> specifikusak.\n",
    "</div>"
   ]
  },
  {
   "cell_type": "markdown",
   "metadata": {},
   "source": [
    "# <img src='../images/en.png'> User home directory encryption\n",
    "\n",
    "The aim of the encryption is to protect user data in the case of device loss / theft. A better alternative is to enable full hard disk encryption during the installation of the operating system.\n",
    "\n",
    "<div class=\"alert alert-info\">\n",
    "Note: this section is specific to the <a href=https://ubuntu.com/>Ubuntu Linux</a> distribution.\n",
    "</div>"
   ]
  },
  {
   "cell_type": "markdown",
   "metadata": {},
   "source": [
    "## Lépések / Steps"
   ]
  },
  {
   "cell_type": "code",
   "execution_count": null,
   "metadata": {},
   "outputs": [],
   "source": [
    "# create new user with encrypted home directory\n",
    "adduser --encrypt-home --disabled-password --gecos \"\" encuser"
   ]
  },
  {
   "cell_type": "code",
   "execution_count": null,
   "metadata": {},
   "outputs": [],
   "source": [
    "# verify user directory contents\n",
    "ls -la /home/encuser"
   ]
  },
  {
   "cell_type": "code",
   "execution_count": null,
   "metadata": {},
   "outputs": [],
   "source": [
    "# set user password to \"secret\" (cannot be done with adduser in jupyter)\n",
    "echo \"encuser:secret\" | chpasswd && echo \"password changed\""
   ]
  },
  {
   "cell_type": "code",
   "execution_count": null,
   "metadata": {},
   "outputs": [],
   "source": [
    "# interactive login - needed for decryption of home\n",
    "# return to the workbook after successful login and continue with next steps\n",
    "xlaunch lxterminal -e \"su - encuser\""
   ]
  },
  {
   "cell_type": "code",
   "execution_count": null,
   "metadata": {},
   "outputs": [],
   "source": [
    "# verify that directory is now readable\n",
    "ls -la /home/encuser"
   ]
  },
  {
   "cell_type": "code",
   "execution_count": null,
   "metadata": {},
   "outputs": [],
   "source": [
    "# kill all processes for encuser (results in logout)\n",
    "slay -u encuser -9"
   ]
  },
  {
   "cell_type": "code",
   "execution_count": null,
   "metadata": {},
   "outputs": [],
   "source": [
    "# verify that directory is now encrypted again\n",
    "ls -la /home/encuser"
   ]
  },
  {
   "cell_type": "code",
   "execution_count": null,
   "metadata": {},
   "outputs": [],
   "source": [
    "# remove test user - clean up home directory\n",
    "deluser --remove-home encuser"
   ]
  },
  {
   "cell_type": "markdown",
   "metadata": {},
   "source": [
    "## Hivatkozások / Links\n",
    "\n",
    "* https://www.linuxuprising.com/2018/04/how-to-encrypt-home-folder-in-ubuntu.html\n",
    "* https://help.ubuntu.com/community/Full_Disk_Encryption_Howto_2019"
   ]
  }
 ],
 "metadata": {
  "kernelspec": {
   "display_name": "SSH itseclabs ZSH",
   "language": "zsh",
   "name": "rik_ssh_itseclabs_zsh"
  },
  "language_info": {
   "codemirror_mode": "shell",
   "file_extension": ".zsh",
   "mimetype": "text/x-zsh",
   "name": "zsh",
   "pygments_lexer": "shell",
   "version": "5.7.1"
  }
 },
 "nbformat": 4,
 "nbformat_minor": 4
}
