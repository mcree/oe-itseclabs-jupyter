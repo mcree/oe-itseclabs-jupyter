{
 "cells": [
  {
   "cell_type": "markdown",
   "metadata": {},
   "source": [
    "# Felhasználói könyvtár titkosítása / User home directory encryption\n",
    "\n",
    "<font color=red>A feladathoz az előkészített <a href=\"https://github.com/mcree/oe-itseclabs\">itseclabs</a> Linux virtuális környezetre van szükség. /\n",
    "For this task you'll need the prepared <a href=\"https://github.com/mcree/oe-itseclabs\">itseclabs</a> Linux virtual environment.</font>"
   ]
  },
  {
   "cell_type": "code",
   "execution_count": null,
   "metadata": {},
   "outputs": [],
   "source": [
    "# create new user with encrypted home directory\n",
    "sudo adduser --encrypt-home --disabled-password --gecos \"\" encuser"
   ]
  },
  {
   "cell_type": "code",
   "execution_count": null,
   "metadata": {},
   "outputs": [],
   "source": [
    "# verify user directory contents\n",
    "ls -la /home/encuser"
   ]
  },
  {
   "cell_type": "code",
   "execution_count": null,
   "metadata": {},
   "outputs": [],
   "source": [
    "# set user password to \"secret\" (cannot be done with adduser in jupyter)\n",
    "echo \"encuser:secret\" | chpasswd && echo \"password changed\""
   ]
  },
  {
   "cell_type": "code",
   "execution_count": null,
   "metadata": {},
   "outputs": [],
   "source": [
    "# interactive login - needed for decryption of home\n",
    "# return to the workbook after successful login and continue with next steps\n",
    "xlaunch lxterminal -e \"su - encuser\""
   ]
  },
  {
   "cell_type": "code",
   "execution_count": null,
   "metadata": {},
   "outputs": [],
   "source": [
    "# verify that directory is now readable\n",
    "ls -la /home/encuser"
   ]
  },
  {
   "cell_type": "code",
   "execution_count": null,
   "metadata": {},
   "outputs": [],
   "source": [
    "# kill all processes for encuser (results in logout)\n",
    "slay -u encuser -9"
   ]
  },
  {
   "cell_type": "code",
   "execution_count": null,
   "metadata": {},
   "outputs": [],
   "source": [
    "# verify that directory is now encrypted again\n",
    "ls -la /home/encuser"
   ]
  },
  {
   "cell_type": "code",
   "execution_count": null,
   "metadata": {},
   "outputs": [],
   "source": [
    "# remove test user - clean up home directory\n",
    "deluser --remove-home encuser"
   ]
  },
  {
   "cell_type": "markdown",
   "metadata": {},
   "source": [
    "## Hivatkozások / Links\n",
    "\n",
    "* https://www.linuxuprising.com/2018/04/how-to-encrypt-home-folder-in-ubuntu.html"
   ]
  }
 ],
 "metadata": {
  "kernelspec": {
   "display_name": "SSH itseclabs ZSH",
   "language": "zsh",
   "name": "rik_ssh_itseclabs_zsh"
  },
  "language_info": {
   "codemirror_mode": "shell",
   "file_extension": ".zsh",
   "mimetype": "text/x-zsh",
   "name": "zsh",
   "pygments_lexer": "shell",
   "version": "5.7.1"
  }
 },
 "nbformat": 4,
 "nbformat_minor": 4
}
