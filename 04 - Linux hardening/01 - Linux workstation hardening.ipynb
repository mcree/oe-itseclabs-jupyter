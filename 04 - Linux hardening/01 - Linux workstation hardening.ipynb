{
 "cells": [
  {
   "cell_type": "markdown",
   "metadata": {},
   "source": [
    "# Linux workstation hardening\n",
    "\n",
    "A feladathoz az előkészített itseclabs Linux virtuális környezetre van szükség. /\n",
    "For this task you'll need the prepared itseclabs Linux virtual environment."
   ]
  },
  {
   "cell_type": "markdown",
   "metadata": {},
   "source": [
    "## Hivatkozások / Links\n",
    "\n",
    "* https://www.pluralsight.com/blog/it-ops/linux-hardening-secure-server-checklist\n",
    "* https://github.com/trimstray/linux-hardening-checklist"
   ]
  }
 ],
 "metadata": {
  "kernelspec": {
   "display_name": "SSH itseclabs ZSH",
   "language": "zsh",
   "name": "rik_ssh_itseclabs_zsh"
  },
  "language_info": {
   "codemirror_mode": "shell",
   "file_extension": ".zsh",
   "mimetype": "text/x-zsh",
   "name": "zsh",
   "pygments_lexer": "shell",
   "version": "5.7.1"
  }
 },
 "nbformat": 4,
 "nbformat_minor": 4
}
