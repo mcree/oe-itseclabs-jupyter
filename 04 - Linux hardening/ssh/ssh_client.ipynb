{
 "cells": [
  {
   "cell_type": "markdown",
   "metadata": {},
   "source": [
    "*Run the second cell until a terminal window appears!* \n",
    "\n",
    "*Futtassa a második cellát amíg egy terminál ablak nem jelenik meg!*"
   ]
  },
  {
   "cell_type": "code",
   "execution_count": null,
   "metadata": {
    "jupyter": {
     "source_hidden": true
    }
   },
   "outputs": [],
   "source": [
    "from IPython.display import IFrame\n",
    "import os\n",
    "os.system('ssh itseclabs sudo ttyd --port 56812 --once /home/hallgato/docker/ssh-client-server/run &')\n",
    "IFrame('http://localhost:56812', width='100%', height=400)"
   ]
  }
 ],
 "metadata": {
  "kernelspec": {
   "display_name": "Python 3",
   "language": "python",
   "name": "python3"
  },
  "language_info": {
   "codemirror_mode": {
    "name": "ipython",
    "version": 3
   },
   "file_extension": ".py",
   "mimetype": "text/x-python",
   "name": "python",
   "nbconvert_exporter": "python",
   "pygments_lexer": "ipython3",
   "version": "3.6.9"
  }
 },
 "nbformat": 4,
 "nbformat_minor": 4
}
