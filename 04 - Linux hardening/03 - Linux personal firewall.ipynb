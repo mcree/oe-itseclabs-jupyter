{
 "cells": [
  {
   "cell_type": "markdown",
   "metadata": {},
   "source": [
    "<div class=\"alert alert-warning\">\n",
    "<p><img src='../images/hu.png'> A feladathoz az előkészített <a href=\"https://github.com/mcree/oe-itseclabs\">itseclabs</a> Linux virtuális környezetre van szükség!</p>\n",
    "<p><img src='../images/en.png'> For this task you'll need the prepared <a href=\"https://github.com/mcree/oe-itseclabs\">itseclabs</a> Linux virtual environment.</p>\n",
    "</div>"
   ]
  },
  {
   "cell_type": "markdown",
   "metadata": {},
   "source": [
    "# <img src='../images/hu.png'> Linux személyi tűzfal\n",
    "\n",
    "A hoszt- vagy személyi tűzfal célja az eszközön esetlegesen tévedésből indított hálózati szolgáltatások elérhetetlenné tétele a külső hálózatok irányából.\n",
    "\n",
    "<div class=\"alert alert-info\">\n",
    "A szakaszban használt utasítások <a href=https://ubuntu.com/>Ubuntu Linux</a> specifikusak.\n",
    "</div>"
   ]
  },
  {
   "cell_type": "markdown",
   "metadata": {},
   "source": [
    "# <img src='../images/en.png'> Linux personal firewall\n",
    "\n",
    "The host- or personal firewall aims to restrict unauthorzed external access to services accidentaly exposed by the user.\n",
    "\n",
    "<div class=\"alert alert-info\">\n",
    "Note: this section is specific to the <a href=https://ubuntu.com/>Ubuntu Linux</a> distribution.\n",
    "</div>"
   ]
  },
  {
   "cell_type": "markdown",
   "metadata": {},
   "source": [
    "## Lépések / Steps"
   ]
  },
  {
   "cell_type": "code",
   "execution_count": null,
   "metadata": {},
   "outputs": [],
   "source": [
    "# Check user firewall status\n",
    "ufw status"
   ]
  },
  {
   "cell_type": "code",
   "execution_count": null,
   "metadata": {},
   "outputs": [],
   "source": [
    "# Enable SSH services\n",
    "ufw allow ssh"
   ]
  },
  {
   "cell_type": "code",
   "execution_count": null,
   "metadata": {},
   "outputs": [],
   "source": [
    "# Enable user firewall\n",
    "yes | ufw enable"
   ]
  },
  {
   "cell_type": "code",
   "execution_count": null,
   "metadata": {},
   "outputs": [],
   "source": [
    "# Check user firewall status\n",
    "ufw status"
   ]
  },
  {
   "cell_type": "code",
   "execution_count": null,
   "metadata": {},
   "outputs": [],
   "source": [
    "# Check graphical interface for UFW\n",
    "xlaunch sudo gufw"
   ]
  },
  {
   "cell_type": "code",
   "execution_count": null,
   "metadata": {},
   "outputs": [],
   "source": [
    "# Check Linux kernel firewall rules\n",
    "iptables -L"
   ]
  },
  {
   "cell_type": "code",
   "execution_count": null,
   "metadata": {},
   "outputs": [],
   "source": [
    "# Clean up - disable user firewall\n",
    "yes | ufw disable"
   ]
  },
  {
   "cell_type": "markdown",
   "metadata": {},
   "source": [
    "## Hivatkozások / Links\n",
    "\n",
    "* https://help.ubuntu.com/community/UFW\n",
    "* http://gufw.org/\n",
    "* https://www.netfilter.org/documentation/"
   ]
  }
 ],
 "metadata": {
  "kernelspec": {
   "display_name": "SSH itseclabs ZSH",
   "language": "zsh",
   "name": "rik_ssh_itseclabs_zsh"
  },
  "language_info": {
   "codemirror_mode": "shell",
   "file_extension": ".zsh",
   "mimetype": "text/x-zsh",
   "name": "zsh",
   "pygments_lexer": "shell",
   "version": "5.7.1"
  }
 },
 "nbformat": 4,
 "nbformat_minor": 4
}
