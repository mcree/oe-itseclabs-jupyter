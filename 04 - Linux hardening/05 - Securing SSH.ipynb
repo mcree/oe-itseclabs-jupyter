{
 "cells": [
  {
   "cell_type": "markdown",
   "metadata": {},
   "source": [
    "## <img src='../images/hu.png'> Jelszavas azonosítás\n",
    "\n",
    "Ez a szakasz az egyszerű, jelszó alapú SSH használatot szemlélteti."
   ]
  },
  {
   "cell_type": "markdown",
   "metadata": {},
   "source": [
    "## <img src='../images/en.png'> Password based authentication\n",
    "\n",
    "This section demonstrates simple password based SSH access."
   ]
  },
  {
   "cell_type": "code",
   "execution_count": 74,
   "metadata": {},
   "outputs": [
    {
     "name": "stdout",
     "output_type": "stream",
     "text": [
      "no server running on /home/hallgato/oe-itseclabs/04 - Linux hardening/ssh/client_home/.tmux.sock\n"
     ]
    }
   ],
   "source": [
    "# clear terminal screen\n",
    "ssh-client-cmd \"clear\""
   ]
  },
  {
   "cell_type": "code",
   "execution_count": 26,
   "metadata": {},
   "outputs": [],
   "source": [
    "# verify that server is reachable with ICMP PING\n",
    "ssh-client-cmd \"ping -c3 server\""
   ]
  },
  {
   "cell_type": "code",
   "execution_count": 19,
   "metadata": {},
   "outputs": [],
   "source": [
    "# retireve and display host keys from SSH server\n",
    "ssh-client-cmd \"ssh-keyscan server\""
   ]
  },
  {
   "cell_type": "code",
   "execution_count": 21,
   "metadata": {},
   "outputs": [],
   "source": [
    "# save host keys to list of known hosts\n",
    "ssh-client-cmd \"ssh-keyscan server > .ssh/known_hosts\""
   ]
  },
  {
   "cell_type": "code",
   "execution_count": 27,
   "metadata": {},
   "outputs": [],
   "source": [
    "# initiate remote connection to the server\n",
    "ssh-client-cmd \"ssh hallgato@server\"\n",
    "# wait for password prompt\n",
    "sleep 1\n",
    "# enter user password when prompted\n",
    "ssh-client-cmd \"hallgato\""
   ]
  },
  {
   "cell_type": "code",
   "execution_count": 28,
   "metadata": {},
   "outputs": [],
   "source": [
    "# logout from remote server\n",
    "ssh-client-cmd \"exit\""
   ]
  },
  {
   "cell_type": "markdown",
   "metadata": {},
   "source": [
    "## <img src='../images/hu.png'> Kulcs alapú azonosítás\n",
    "\n",
    "Célja a felhasználói jelszó kliens oldali tárolása / védelme, \n",
    "valamint az egyszeri bejelentkezési (SSO - single sign on) lehetőség \n",
    "megteremtése. Ugyanaz a felhasználói kulcs számos kiszolgálón \n",
    "biztonsággal használható."
   ]
  },
  {
   "cell_type": "markdown",
   "metadata": {},
   "source": [
    "## <img src='../images/en.png'> Key based authentication\n",
    "\n",
    "The aim of key based authentication is to store / protect the user\n",
    "password on the client side, enabling single sign on (SSO) at the same time.\n",
    "The same user key can be employed in many servers in a secure manner."
   ]
  },
  {
   "cell_type": "code",
   "execution_count": 47,
   "metadata": {},
   "outputs": [],
   "source": [
    "# clear terminal screen\n",
    "ssh-client-cmd \"clear\""
   ]
  },
  {
   "cell_type": "code",
   "execution_count": 48,
   "metadata": {},
   "outputs": [],
   "source": [
    "# generate new keypair\n",
    "ssh-client-cmd \"ssh-keygen -t rsa -f mykey\"\n",
    "# wait for password prompt\n",
    "sleep 1\n",
    "# private key password will be \"secret\"\n",
    "ssh-client-cmd \"secret\"\n",
    "# wait for password prompt again\n",
    "sleep 1\n",
    "# repeat key password\n",
    "ssh-client-cmd \"secret\""
   ]
  },
  {
   "cell_type": "code",
   "execution_count": 49,
   "metadata": {},
   "outputs": [],
   "source": [
    "# check contents of the public key\n",
    "ssh-client-cmd \"cat mykey.pub\""
   ]
  },
  {
   "cell_type": "code",
   "execution_count": 50,
   "metadata": {},
   "outputs": [],
   "source": [
    "# copy our *public* key to the server\n",
    "ssh-client-cmd \"ssh-copy-id -i mykey.pub hallgato@server\"\n",
    "# wait for password prompt\n",
    "sleep 1\n",
    "# enter user password when prompted\n",
    "ssh-client-cmd \"hallgato\""
   ]
  },
  {
   "cell_type": "code",
   "execution_count": 65,
   "metadata": {},
   "outputs": [],
   "source": [
    "# check key based authentication\n",
    "ssh-client-cmd \"ssh -o PasswordAuthentication=no -i mykey hallgato@server\"\n",
    "# wait for the password prompt\n",
    "sleep 1\n",
    "# enter password for the *secret key*\n",
    "ssh-client-cmd \"secret\""
   ]
  },
  {
   "cell_type": "code",
   "execution_count": 66,
   "metadata": {},
   "outputs": [],
   "source": [
    "# verify public key on the server side\n",
    "ssh-client-cmd \"cat .ssh/authorized_keys\""
   ]
  },
  {
   "cell_type": "code",
   "execution_count": 67,
   "metadata": {},
   "outputs": [],
   "source": [
    "# logout from remote server\n",
    "ssh-client-cmd \"exit\""
   ]
  },
  {
   "cell_type": "code",
   "execution_count": 68,
   "metadata": {},
   "outputs": [],
   "source": [
    "# start ssh agent process and set up user environment\n",
    "ssh-client-cmd \"eval \\$(ssh-agent)\""
   ]
  },
  {
   "cell_type": "code",
   "execution_count": 70,
   "metadata": {},
   "outputs": [],
   "source": [
    "# add keypair to the ssh agent\n",
    "ssh-client-cmd \"ssh-add mykey\"\n",
    "# wait for the password prompt\n",
    "sleep 1\n",
    "# enter password for the *secret key*\n",
    "ssh-client-cmd \"secret\""
   ]
  },
  {
   "cell_type": "code",
   "execution_count": 71,
   "metadata": {},
   "outputs": [],
   "source": [
    "# list active ssh keypairs registered by the agent\n",
    "ssh-client-cmd \"ssh-add -l\""
   ]
  },
  {
   "cell_type": "code",
   "execution_count": 72,
   "metadata": {},
   "outputs": [],
   "source": [
    "# try passwordless remote connection\n",
    "ssh-client-cmd \"ssh hallgato@server\""
   ]
  },
  {
   "cell_type": "code",
   "execution_count": 73,
   "metadata": {},
   "outputs": [],
   "source": [
    "# logout from remote server\n",
    "ssh-client-cmd \"exit\""
   ]
  }
 ],
 "metadata": {
  "kernelspec": {
   "display_name": "SSH itseclabs ZSH",
   "language": "zsh",
   "name": "rik_ssh_itseclabs_zsh"
  },
  "language_info": {
   "codemirror_mode": "shell",
   "file_extension": ".zsh",
   "mimetype": "text/x-zsh",
   "name": "zsh",
   "pygments_lexer": "shell",
   "version": "5.7.1"
  }
 },
 "nbformat": 4,
 "nbformat_minor": 4
}
