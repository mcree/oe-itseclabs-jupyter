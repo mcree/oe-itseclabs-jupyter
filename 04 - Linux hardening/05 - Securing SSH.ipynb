{
 "cells": [
  {
   "cell_type": "markdown",
   "metadata": {},
   "source": [
    "<div class=\"alert alert-warning\">\n",
    "<p><img src='../images/hu.png'> A feladathoz az előkészített <a href=\"https://github.com/mcree/oe-itseclabs\">itseclabs</a> Linux virtuális környezetre van szükség!</p>\n",
    "<p><img src='../images/en.png'> For this task you'll need the prepared <a href=\"https://github.com/mcree/oe-itseclabs\">itseclabs</a> Linux virtual environment.</p>\n",
    "</div>"
   ]
  },
  {
   "cell_type": "markdown",
   "metadata": {},
   "source": [
    "## <img src='../images/hu.png'> SSH használata - jelszavas azonosítás\n",
    "\n",
    "Ez a szakasz az egyszerű, jelszó alapú SSH használatot szemlélteti.\n",
    "\n",
    "<div class=\"alert alert-warning\">\n",
    "<p>A demonstráció során az <a href=/lab/workspaces/ssh-instance?clone=ssh target=_self>SSH kliens munkafüzet</a> párhuzamos használatára célszerű!</p>\n",
    "</div>"
   ]
  },
  {
   "cell_type": "markdown",
   "metadata": {},
   "source": [
    "## <img src='../images/en.png'> SSH with password based authentication\n",
    "\n",
    "This section demonstrates simple password based SSH access.\n",
    "\n",
    "<div class=\"alert alert-warning\">\n",
    "<p>For demonstration purposes a parallel view of the <a href=/lab/workspaces/ssh-instance?clone=ssh target=_self>SSH client workbook</a> is necessary!</p>\n",
    "</div>"
   ]
  },
  {
   "cell_type": "code",
   "execution_count": null,
   "metadata": {},
   "outputs": [],
   "source": [
    "# clear terminal screen\n",
    "ssh-client-cmd \"clear\""
   ]
  },
  {
   "cell_type": "code",
   "execution_count": null,
   "metadata": {},
   "outputs": [],
   "source": [
    "# verify that server is reachable with ICMP PING\n",
    "ssh-client-cmd \"ping -c3 server\""
   ]
  },
  {
   "cell_type": "code",
   "execution_count": null,
   "metadata": {},
   "outputs": [],
   "source": [
    "# retireve and display host keys from SSH server\n",
    "ssh-client-cmd \"ssh-keyscan server\""
   ]
  },
  {
   "cell_type": "code",
   "execution_count": null,
   "metadata": {},
   "outputs": [],
   "source": [
    "# save host keys to list of known hosts\n",
    "ssh-client-cmd \"ssh-keyscan server > .ssh/known_hosts\""
   ]
  },
  {
   "cell_type": "code",
   "execution_count": null,
   "metadata": {},
   "outputs": [],
   "source": [
    "# initiate remote connection to the server\n",
    "ssh-client-cmd \"ssh hallgato@server\"\n",
    "# wait for password prompt\n",
    "sleep 1\n",
    "# enter user password when prompted\n",
    "ssh-client-cmd \"hallgato\""
   ]
  },
  {
   "cell_type": "code",
   "execution_count": null,
   "metadata": {},
   "outputs": [],
   "source": [
    "# logout from remote server\n",
    "ssh-client-cmd \"exit\""
   ]
  },
  {
   "cell_type": "markdown",
   "metadata": {},
   "source": [
    "## <img src='../images/hu.png'> SSH használata - kulcs alapú azonosítás\n",
    "\n",
    "Célja a felhasználói jelszó kliens oldali tárolása / védelme, \n",
    "valamint az egyszeri bejelentkezési (SSO - single sign on) lehetőség \n",
    "megteremtése. Ugyanaz a felhasználói kulcs számos kiszolgálón \n",
    "biztonsággal használható."
   ]
  },
  {
   "cell_type": "markdown",
   "metadata": {},
   "source": [
    "## <img src='../images/en.png'> SSH key based authentication\n",
    "\n",
    "The aim of key based authentication is to store / protect the user\n",
    "password on the client side, enabling single sign on (SSO) at the same time.\n",
    "The same user key can be employed in many servers in a secure manner."
   ]
  },
  {
   "cell_type": "code",
   "execution_count": null,
   "metadata": {},
   "outputs": [],
   "source": [
    "# clear terminal screen\n",
    "ssh-client-cmd \"clear\""
   ]
  },
  {
   "cell_type": "code",
   "execution_count": null,
   "metadata": {},
   "outputs": [],
   "source": [
    "# generate new keypair\n",
    "ssh-client-cmd \"ssh-keygen -t rsa -f mykey\"\n",
    "# wait for password prompt\n",
    "sleep 1\n",
    "# private key password will be \"secret\"\n",
    "ssh-client-cmd \"secret\"\n",
    "# wait for password prompt again\n",
    "sleep 1\n",
    "# repeat key password\n",
    "ssh-client-cmd \"secret\""
   ]
  },
  {
   "cell_type": "code",
   "execution_count": null,
   "metadata": {},
   "outputs": [],
   "source": [
    "# check contents of the public key\n",
    "ssh-client-cmd \"cat mykey.pub\""
   ]
  },
  {
   "cell_type": "code",
   "execution_count": null,
   "metadata": {},
   "outputs": [],
   "source": [
    "# copy our *public* key to the server\n",
    "ssh-client-cmd \"ssh-copy-id -i mykey.pub hallgato@server\"\n",
    "# wait for password prompt\n",
    "sleep 1\n",
    "# enter user password when prompted\n",
    "ssh-client-cmd \"hallgato\""
   ]
  },
  {
   "cell_type": "code",
   "execution_count": null,
   "metadata": {},
   "outputs": [],
   "source": [
    "# check key based authentication\n",
    "ssh-client-cmd \"ssh -o PasswordAuthentication=no -i mykey hallgato@server\"\n",
    "# wait for the password prompt\n",
    "sleep 1\n",
    "# enter password for the *secret key*\n",
    "ssh-client-cmd \"secret\""
   ]
  },
  {
   "cell_type": "code",
   "execution_count": null,
   "metadata": {},
   "outputs": [],
   "source": [
    "# verify public key on the server side\n",
    "ssh-client-cmd \"cat .ssh/authorized_keys\""
   ]
  },
  {
   "cell_type": "code",
   "execution_count": null,
   "metadata": {},
   "outputs": [],
   "source": [
    "# logout from remote server\n",
    "ssh-client-cmd \"exit\""
   ]
  },
  {
   "cell_type": "code",
   "execution_count": null,
   "metadata": {},
   "outputs": [],
   "source": [
    "# start ssh agent process and set up user environment\n",
    "ssh-client-cmd \"eval \\$(ssh-agent)\""
   ]
  },
  {
   "cell_type": "code",
   "execution_count": null,
   "metadata": {},
   "outputs": [],
   "source": [
    "# add keypair to the ssh agent\n",
    "ssh-client-cmd \"ssh-add mykey\"\n",
    "# wait for the password prompt\n",
    "sleep 1\n",
    "# enter password for the *secret key*\n",
    "ssh-client-cmd \"secret\""
   ]
  },
  {
   "cell_type": "code",
   "execution_count": null,
   "metadata": {},
   "outputs": [],
   "source": [
    "# list active ssh keypairs registered by the agent\n",
    "ssh-client-cmd \"ssh-add -l\""
   ]
  },
  {
   "cell_type": "code",
   "execution_count": null,
   "metadata": {},
   "outputs": [],
   "source": [
    "# try passwordless remote connection\n",
    "ssh-client-cmd \"ssh hallgato@server\""
   ]
  },
  {
   "cell_type": "code",
   "execution_count": null,
   "metadata": {},
   "outputs": [],
   "source": [
    "# logout from remote server\n",
    "ssh-client-cmd \"exit\""
   ]
  },
  {
   "cell_type": "markdown",
   "metadata": {},
   "source": [
    "## <img src='../images/hu.png'> Házi feladat\n",
    "Az [SSH kiszolgáló konfiguráció](../docker/ssh-client-server/server/ssh/sshd_config) szerkesztése:\n",
    "\n",
    "* A \"root\" felhasználó bejelentkezésének tiltása\n",
    "* Jelszó alapú bejelentkezés tiltása (kulcs alapú azonosítás kényszerítése)\n",
    "* 128 bites AES titkosítás kikapcsolása\n",
    "\n",
    "További információk: https://man.openbsd.org/sshd_config"
   ]
  },
  {
   "cell_type": "markdown",
   "metadata": {},
   "source": [
    "## <img src='../images/en.png'> Homework\n",
    "Modify the [SSH Server Configuration](../docker/ssh-client-server/server/ssh/sshd_config) in order to:\n",
    "\n",
    "* Disable all forms of login of user \"root\"\n",
    "* Disable password based login for all users (enforce key based authentication)\n",
    "* Disable 128 bit AES encryption profile\n",
    "\n",
    "For more information see: https://man.openbsd.org/sshd_config"
   ]
  },
  {
   "cell_type": "code",
   "execution_count": null,
   "metadata": {},
   "outputs": [],
   "source": [
    "# restart SSH server with new configuration\n",
    "cd /home/hallgato/docker/ssh-client-server/\n",
    "docker-compose restart server"
   ]
  },
  {
   "cell_type": "code",
   "execution_count": null,
   "metadata": {},
   "outputs": [],
   "source": [
    "# verify server logs - check for configuration file errors\n",
    "cd /home/hallgato/docker/ssh-client-server/\n",
    "docker-compose logs --tail=25 server"
   ]
  }
 ],
 "metadata": {
  "kernelspec": {
   "display_name": "SSH itseclabs ZSH",
   "language": "zsh",
   "name": "rik_ssh_itseclabs_zsh"
  },
  "language_info": {
   "codemirror_mode": "shell",
   "file_extension": ".zsh",
   "mimetype": "text/x-zsh",
   "name": "zsh",
   "pygments_lexer": "shell",
   "version": "5.7.1"
  }
 },
 "nbformat": 4,
 "nbformat_minor": 4
}
