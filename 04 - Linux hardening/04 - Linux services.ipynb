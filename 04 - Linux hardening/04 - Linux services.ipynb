{
 "cells": [
  {
   "cell_type": "markdown",
   "metadata": {},
   "source": [
    "<div class=\"alert alert-warning\">\n",
    "<p><img src='../images/hu.png'> A feladathoz az előkészített <a href=\"https://github.com/mcree/oe-itseclabs\">itseclabs</a> Linux virtuális környezetre van szükség!</p>\n",
    "<p><img src='../images/en.png'> For this task you'll need the prepared <a href=\"https://github.com/mcree/oe-itseclabs\">itseclabs</a> Linux virtual environment.</p>\n",
    "</div>"
   ]
  },
  {
   "cell_type": "markdown",
   "metadata": {},
   "source": [
    "# <img src='../images/hu.png'> Linux helyi szolgáltatások\n",
    "\n",
    "A helyi szolgáltatások áttekintését szolgáló parancsok segítenek a felesleges vagy kártékony alkalmazások eltávolításában.\n",
    "\n",
    "<div class=\"alert alert-info\">\n",
    "A szakaszban használt utasítások részben <a href=https://ubuntu.com/>Ubuntu Linux</a> specifikusak.\n",
    "</div>"
   ]
  },
  {
   "cell_type": "markdown",
   "metadata": {},
   "source": [
    "# <img src='../images/en.png'> Linux local services\n",
    "\n",
    "Commands for overview of local services help in removing unnecessary or malicious applications.\n",
    "\n",
    "<div class=\"alert alert-info\">\n",
    "Note: this section is in some cases specific to the <a href=https://ubuntu.com/>Ubuntu Linux</a> distribution.\n",
    "</div>"
   ]
  },
  {
   "cell_type": "markdown",
   "metadata": {},
   "source": [
    "## Lépések / Steps"
   ]
  },
  {
   "cell_type": "code",
   "execution_count": null,
   "metadata": {},
   "outputs": [],
   "source": [
    "# List installed packages (limit to last 10 entries)\n",
    "# Note: this command is specific to the Debian/Ubuntu Linux distribution\n",
    "apt list --installed | tail -n 10"
   ]
  },
  {
   "cell_type": "code",
   "execution_count": null,
   "metadata": {},
   "outputs": [],
   "source": [
    "# Show processes listening on IPv4 TCP or UDP ports\n",
    "# Note: processes listening on 127.0.0.1 are considered local\n",
    "ss --processes --ipv4 state listening"
   ]
  },
  {
   "cell_type": "code",
   "execution_count": null,
   "metadata": {},
   "outputs": [],
   "source": [
    "# Show running system services (daemons)\n",
    "# Note: this command is specific to the Ubuntu Linux distribution\n",
    "systemctl list-units --type=service --state=running --no-pager"
   ]
  },
  {
   "cell_type": "code",
   "execution_count": null,
   "metadata": {},
   "outputs": [],
   "source": [
    "# List system timer tasks\n",
    "# Note: this command is specific to the Ubuntu Linux distribution\n",
    "systemctl list-units --type=timer --state=active --no-pager"
   ]
  },
  {
   "cell_type": "code",
   "execution_count": null,
   "metadata": {},
   "outputs": [],
   "source": [
    "# List scheduled (cron) tasks for a specific user\n",
    "crontab -l -u hallgato"
   ]
  },
  {
   "cell_type": "code",
   "execution_count": null,
   "metadata": {},
   "outputs": [],
   "source": [
    "# List scheduled (cron) tasks for the system\n",
    "# Single file configuration\n",
    "cat /etc/crontab"
   ]
  },
  {
   "cell_type": "code",
   "execution_count": null,
   "metadata": {},
   "outputs": [],
   "source": [
    "# List scheduled (cron) tasks for the system\n",
    "# Per directory configuration\n",
    "ls -1 /etc/cron{.d,.hourly,.daily,.weekly}"
   ]
  },
  {
   "cell_type": "code",
   "execution_count": null,
   "metadata": {},
   "outputs": [],
   "source": [
    "# Package installation\n",
    "apt-get --yes install xsol"
   ]
  },
  {
   "cell_type": "code",
   "execution_count": null,
   "metadata": {},
   "outputs": [],
   "source": [
    "# Test installed software :)\n",
    "xlaunch /usr/games/xsol"
   ]
  },
  {
   "cell_type": "code",
   "execution_count": null,
   "metadata": {},
   "outputs": [],
   "source": [
    "# Uninstall software\n",
    "apt-get --yes --auto-remove remove xsol"
   ]
  },
  {
   "cell_type": "code",
   "execution_count": null,
   "metadata": {},
   "outputs": [],
   "source": [
    "# Upgrade all software\n",
    "apt-get update\n",
    "apt-get --yes upgrade"
   ]
  },
  {
   "cell_type": "markdown",
   "metadata": {},
   "source": [
    "## Grafikus eszközök / Graphical tools"
   ]
  },
  {
   "cell_type": "code",
   "execution_count": null,
   "metadata": {},
   "outputs": [],
   "source": [
    "# Task manager\n",
    "xlaunch lxtask"
   ]
  },
  {
   "cell_type": "code",
   "execution_count": null,
   "metadata": {},
   "outputs": [],
   "source": [
    "# Package manager\n",
    "xlaunch sudo synaptic"
   ]
  },
  {
   "cell_type": "markdown",
   "metadata": {},
   "source": [
    "## Hivatkozások / Links\n",
    "\n",
    "* https://help.ubuntu.com/lts/serverguide/apt.html\n",
    "* https://help.ubuntu.com/community/CronHowto\n",
    "* https://www.freedesktop.org/software/systemd/man/systemctl.html"
   ]
  }
 ],
 "metadata": {
  "kernelspec": {
   "display_name": "SSH itseclabs ZSH",
   "language": "zsh",
   "name": "rik_ssh_itseclabs_zsh"
  },
  "language_info": {
   "codemirror_mode": "shell",
   "file_extension": ".zsh",
   "mimetype": "text/x-zsh",
   "name": "zsh",
   "pygments_lexer": "shell",
   "version": "5.7.1"
  }
 },
 "nbformat": 4,
 "nbformat_minor": 4
}
