{
 "cells": [
  {
   "cell_type": "markdown",
   "metadata": {
    "pycharm": {
     "name": "#%% md\n"
    }
   },
   "source": [
    "# Informatikai biztonság / information secuirty\n",
    "## Bevezető - Jupyter interaktív munkafüzet / Introduction - Jupyter interactive notebook\n",
    "\n",
    "Megjegyzés: a munkafüzetek kétnyelvűek / Note: the notebooks are bilingual\n"
   ]
  },
  {
   "cell_type": "code",
   "execution_count": null,
   "metadata": {
    "pycharm": {
     "is_executing": false,
     "name": "#%%\n"
    }
   },
   "outputs": [],
   "source": [
    "# ez egy alapértelmezett, python programnyelven írt cella / this is a default python cell\n",
    "print(\"Hello from python\")"
   ]
  },
  {
   "cell_type": "code",
   "execution_count": null,
   "metadata": {
    "pycharm": {
     "is_executing": false,
     "name": "#%%\n"
    }
   },
   "outputs": [],
   "source": [
    "%%bash\n",
    "# ez egy Linux parancssori (BASH) cella / this is a Linux command line (BASH) cell\n",
    "echo \"Hello from bash\""
   ]
  },
  {
   "cell_type": "code",
   "execution_count": null,
   "metadata": {},
   "outputs": [],
   "source": [
    "%%javascript\n",
    "// ez egy JavaScript nyelven írt cella / this cell is written in JavaScript\n",
    "element.append(\"Hello from json\");"
   ]
  },
  {
   "cell_type": "code",
   "execution_count": null,
   "metadata": {
    "collapsed": false,
    "jupyter": {
     "outputs_hidden": false
    },
    "pycharm": {
     "name": "#%%\n"
    }
   },
   "outputs": [],
   "source": [
    "%%script csharp\n",
    "// C# script (CSX) nyelven írt cella / cell in C# script (CSX)\n",
    "Console.WriteLine(\"hello from C# script\");"
   ]
  },
  {
   "cell_type": "markdown",
   "metadata": {},
   "source": [
    ".NET (C#) kernel használata (haladó, külső munkafüzetet igényel) / usage of .NET (C#) kernel (advanced, needs dedicated notebook)\n",
    "\n",
    "[02 - dotnet.ipynb](02%20-%20dotnet.ipynb)"
   ]
  }
 ],
 "metadata": {
  "kernelspec": {
   "display_name": "Python 3",
   "language": "python",
   "name": "python3"
  },
  "language_info": {
   "codemirror_mode": {
    "name": "ipython",
    "version": 3
   },
   "file_extension": ".py",
   "mimetype": "text/x-python",
   "name": "python",
   "nbconvert_exporter": "python",
   "pygments_lexer": "ipython3",
   "version": "3.6.9"
  },
  "pycharm": {
   "stem_cell": {
    "cell_type": "raw",
    "metadata": {
     "collapsed": false
    },
    "source": []
   }
  }
 },
 "nbformat": 4,
 "nbformat_minor": 4
}
